{
  "nbformat": 4,
  "nbformat_minor": 0,
  "metadata": {
    "colab": {
      "provenance": []
    },
    "kernelspec": {
      "name": "python3",
      "display_name": "Python 3"
    },
    "language_info": {
      "name": "python"
    }
  },
  "cells": [
    {
      "cell_type": "markdown",
      "source": [
        "**1. Reverse a given string without using any built-in reverse functions**"
      ],
      "metadata": {
        "id": "CXEENi8zwkx_"
      }
    },
    {
      "cell_type": "code",
      "execution_count": null,
      "metadata": {
        "colab": {
          "base_uri": "https://localhost:8080/"
        },
        "id": "sGM8igCBwEYQ",
        "outputId": "f3c5d007-5a2e-4ade-f0a1-986b9d080b11"
      },
      "outputs": [
        {
          "output_type": "stream",
          "name": "stdout",
          "text": [
            "Enter a string: Kiran\n",
            "Reversed string:  nariK\n"
          ]
        }
      ],
      "source": [
        "str=input(\"Enter a string: \")\n",
        "str1=str[::-1]\n",
        "print(\"Reversed string: \",str1)"
      ]
    },
    {
      "cell_type": "markdown",
      "source": [
        "**2. Check if a string is a palindrome**"
      ],
      "metadata": {
        "id": "2gh91ldKwvGF"
      }
    },
    {
      "cell_type": "code",
      "source": [
        "str=input(\"Enter a string: \")\n",
        "str1=str.lower()\n",
        "if str1==str1[::-1]:\n",
        "  print(\"Palindrome\")\n",
        "else:\n",
        "  print(\"Not Palindrome\")"
      ],
      "metadata": {
        "colab": {
          "base_uri": "https://localhost:8080/"
        },
        "id": "CgAYPiSww1U3",
        "outputId": "844665d3-3b42-410c-94bb-a52b5f044e99"
      },
      "execution_count": null,
      "outputs": [
        {
          "output_type": "stream",
          "name": "stdout",
          "text": [
            "Enter a string: peep\n",
            "Palindrome\n"
          ]
        }
      ]
    },
    {
      "cell_type": "markdown",
      "source": [
        "**3. Count the number of vowels and consonants in a string**"
      ],
      "metadata": {
        "id": "BYg2kQfXw39U"
      }
    },
    {
      "cell_type": "code",
      "source": [
        "str=input(\"Enter a string: \")\n",
        "str=str.lower()\n",
        "vowels='aeiou'\n",
        "cvowels=0\n",
        "cconsonants=0\n",
        "for i in str:\n",
        "  if i.isalpha():\n",
        "      if i in vowels:\n",
        "          cvowels=cvowels+1\n",
        "      else:\n",
        "          cconsonants=cconsonants+1\n",
        "print(f\"Count of vowels: {cvowels}\")\n",
        "print(f\"Count of consonants: {cconsonants}\")"
      ],
      "metadata": {
        "colab": {
          "base_uri": "https://localhost:8080/"
        },
        "id": "kyYPtTNixX86",
        "outputId": "78d71b8e-eff5-4406-f75c-db8c158cbf15"
      },
      "execution_count": null,
      "outputs": [
        {
          "output_type": "stream",
          "name": "stdout",
          "text": [
            "Enter a string: Kiran\n",
            "Count of vowels: 2\n",
            "Count of consonants: 3\n"
          ]
        }
      ]
    },
    {
      "cell_type": "markdown",
      "source": [
        "**4. Remove all spaces from a given string**"
      ],
      "metadata": {
        "id": "VqcA05HvxnQA"
      }
    },
    {
      "cell_type": "code",
      "source": [
        "# Using replace method\n",
        "str=input(\"Enter a string: \")\n",
        "str1=str.replace(\" \", \"\")\n",
        "print(f\"String with no spaces {str1}\")"
      ],
      "metadata": {
        "colab": {
          "base_uri": "https://localhost:8080/"
        },
        "id": "PKjs8q6ezpVx",
        "outputId": "ace0d90b-d5c3-4097-a1d7-5c8632d6eb80"
      },
      "execution_count": null,
      "outputs": [
        {
          "output_type": "stream",
          "name": "stdout",
          "text": [
            "Enter a string: P O O J I\n",
            "String with no spaces POOJI\n"
          ]
        }
      ]
    },
    {
      "cell_type": "code",
      "source": [
        "# Using join\n",
        "str=input(\"Enter a string: \")\n",
        "no_spaces=\"\".join(str.split())\n",
        "print(f\"String with no spaces {no_spaces}\")"
      ],
      "metadata": {
        "colab": {
          "base_uri": "https://localhost:8080/"
        },
        "id": "wyOTUQsgz2PF",
        "outputId": "c3f09678-35b4-4935-a769-dfaf07932d38"
      },
      "execution_count": null,
      "outputs": [
        {
          "output_type": "stream",
          "name": "stdout",
          "text": [
            "Enter a string: P O O J I\n",
            "String with no spaces POOJI\n"
          ]
        }
      ]
    },
    {
      "cell_type": "code",
      "source": [
        "# Using a while loop\n",
        "str=input(\"Enter a string: \")\n",
        "i=0\n",
        "no_spaces=\"\"\n",
        "while i<len(str):\n",
        "    if str[i]!=\" \":\n",
        "        no_spaces=no_spaces+str[i]\n",
        "    i+=1\n",
        "print(f\"String with no spaces {no_spaces}\")"
      ],
      "metadata": {
        "colab": {
          "base_uri": "https://localhost:8080/"
        },
        "id": "KXeTi7A3z4hC",
        "outputId": "99bbe2e8-6ed6-4625-e721-f439cf44d7b6"
      },
      "execution_count": null,
      "outputs": [
        {
          "output_type": "stream",
          "name": "stdout",
          "text": [
            "Enter a string: P O O J I\n",
            "String with no spaces POOJI\n"
          ]
        }
      ]
    },
    {
      "cell_type": "markdown",
      "source": [
        "**5. Count the frequency of each character in a string**"
      ],
      "metadata": {
        "id": "rcl6LSHM0GF3"
      }
    },
    {
      "cell_type": "code",
      "source": [
        "str=input(\"Enter a string: \")\n",
        "res=''\n",
        "for i in str:\n",
        "  c=str.count(i)\n",
        "  if i not in res:\n",
        "    res=res+i\n",
        "    print(f\"{i} : {c}\")"
      ],
      "metadata": {
        "colab": {
          "base_uri": "https://localhost:8080/"
        },
        "id": "LZfoE9Ew0HOg",
        "outputId": "e6be85b2-119d-44b6-dc68-66088a5a0d7c"
      },
      "execution_count": null,
      "outputs": [
        {
          "output_type": "stream",
          "name": "stdout",
          "text": [
            "Enter a string: poojitha\n",
            "p : 1\n",
            "o : 2\n",
            "j : 1\n",
            "i : 1\n",
            "t : 1\n",
            "h : 1\n",
            "a : 1\n"
          ]
        }
      ]
    }
  ]
}