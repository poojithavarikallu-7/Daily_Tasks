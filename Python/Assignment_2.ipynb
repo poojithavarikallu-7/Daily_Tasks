{
  "nbformat": 4,
  "nbformat_minor": 0,
  "metadata": {
    "colab": {
      "provenance": []
    },
    "kernelspec": {
      "name": "python3",
      "display_name": "Python 3"
    },
    "language_info": {
      "name": "python"
    }
  },
  "cells": [
    {
      "cell_type": "markdown",
      "source": [
        "**6. Check if a number is prime or not**\n",
        "\n"
      ],
      "metadata": {
        "id": "gnWb2gWBaZHn"
      }
    },
    {
      "cell_type": "code",
      "execution_count": null,
      "metadata": {
        "colab": {
          "base_uri": "https://localhost:8080/"
        },
        "id": "Vo4r9OOhaUTh",
        "outputId": "f058d873-80a8-4471-9a07-a7e453d4abc1"
      },
      "outputs": [
        {
          "output_type": "stream",
          "name": "stdout",
          "text": [
            "Enter a number: 711\n",
            "711 is a prime number\n"
          ]
        }
      ],
      "source": [
        "num=int(input(\"Enter a number: \"))\n",
        "count=0\n",
        "for i in range(1,num+1):\n",
        "  if (num%i==0):\n",
        "    count=count+1\n",
        "    if (count==2):\n",
        "      print(f\"{num} is a prime number\")\n",
        "      break\n",
        "else:\n",
        "  print(f\"{num} is not a prime number\")"
      ]
    },
    {
      "cell_type": "markdown",
      "source": [
        "**7. Find the factorial of a number**"
      ],
      "metadata": {
        "id": "QGi0YG71b8M9"
      }
    },
    {
      "cell_type": "code",
      "source": [
        "num=int(input(\"Enter a number: \"))\n",
        "fact=1\n",
        "for i in range(1,num+1):\n",
        "    fact*=i\n",
        "print(f\"Factorial of {num} is {fact}\")"
      ],
      "metadata": {
        "colab": {
          "base_uri": "https://localhost:8080/"
        },
        "id": "kyC9QOLfb-22",
        "outputId": "4474d026-bcdb-45a5-86ca-168c518b1e30"
      },
      "execution_count": null,
      "outputs": [
        {
          "output_type": "stream",
          "name": "stdout",
          "text": [
            "Enter a number: 11\n",
            "Factorial of 11 is 39916800\n"
          ]
        }
      ]
    },
    {
      "cell_type": "markdown",
      "source": [
        "**8. Print the Fibonacci series up to n terms**"
      ],
      "metadata": {
        "id": "qX0U0MR3cmxu"
      }
    },
    {
      "cell_type": "code",
      "source": [
        "num=int(input(\"Enter a number: \"))\n",
        "a=0\n",
        "b=1\n",
        "for i in range(num):\n",
        "  print(a,end=\" \")\n",
        "  c=a+b\n",
        "  a=b\n",
        "  b=c"
      ],
      "metadata": {
        "colab": {
          "base_uri": "https://localhost:8080/"
        },
        "id": "fl6xYfsFco78",
        "outputId": "a539dd1b-116a-4243-9928-9251fb9752ce"
      },
      "execution_count": null,
      "outputs": [
        {
          "output_type": "stream",
          "name": "stdout",
          "text": [
            "Enter a number: 24\n",
            "0 1 1 2 3 5 8 13 21 34 55 89 144 233 377 610 987 1597 2584 4181 6765 10946 17711 28657 "
          ]
        }
      ]
    },
    {
      "cell_type": "markdown",
      "source": [
        "**9. Find the sum of digits of a given number**"
      ],
      "metadata": {
        "id": "BKEU1AG6dRHu"
      }
    },
    {
      "cell_type": "code",
      "source": [
        "num=int(input(\"Enter a number: \"))\n",
        "a=num\n",
        "sum=0\n",
        "while num>0:\n",
        "  rem=num%10\n",
        "  sum=sum+rem\n",
        "  num=num//10\n",
        "print(f\"Sum of digits of {a} is {sum}\")"
      ],
      "metadata": {
        "colab": {
          "base_uri": "https://localhost:8080/"
        },
        "id": "f5eeIMdUdS-Z",
        "outputId": "2d872a59-2837-4d17-96e6-07774075bf07"
      },
      "execution_count": null,
      "outputs": [
        {
          "output_type": "stream",
          "name": "stdout",
          "text": [
            "Enter a number: 118712\n",
            "Sum of digits of 118712 is 20\n"
          ]
        }
      ]
    },
    {
      "cell_type": "markdown",
      "source": [
        "**10. Reverse the digits of a given number**"
      ],
      "metadata": {
        "id": "3tJe9vB1eW88"
      }
    },
    {
      "cell_type": "code",
      "source": [
        "num=int(input(\"Enter a number: \"))\n",
        "a=num\n",
        "rev=0\n",
        "while num>0:\n",
        "  rem=num%10\n",
        "  rev=(rev*10)+rem\n",
        "  num=num//10\n",
        "print(f\"Reverse of digits of {a} is {rev}\")"
      ],
      "metadata": {
        "colab": {
          "base_uri": "https://localhost:8080/"
        },
        "id": "hCXIHdOzeZVt",
        "outputId": "e439c691-c266-409c-8e9a-5f9dd759332a"
      },
      "execution_count": null,
      "outputs": [
        {
          "output_type": "stream",
          "name": "stdout",
          "text": [
            "Enter a number: 1207\n",
            "Reverse of digits of 1207 is 7021\n"
          ]
        }
      ]
    }
  ]
}